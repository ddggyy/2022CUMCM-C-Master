{
 "cells": [
  {
   "cell_type": "code",
   "execution_count": 1,
   "id": "ec130193",
   "metadata": {},
   "outputs": [
    {
     "name": "stdout",
     "output_type": "stream",
     "text": [
      "卡方值=4.9565, p值=0.0839, 自由度=2 expected_frep=[[12.89655172  9.10344828]\n",
      " [ 3.51724138  2.48275862]\n",
      " [17.5862069  12.4137931 ]]\n"
     ]
    }
   ],
   "source": [
    "from  scipy.stats import chi2_contingency\n",
    "import numpy as np\n",
    "import pandas as pd\n",
    "data=[[11,11],[6,0],[17,13]]\n",
    "\n",
    "df=pd.DataFrame(data,index=['A','B','C'],columns=['风化','无风化'])\n",
    "kt=chi2_contingency(df)\n",
    "\n",
    "print('卡方值=%.4f, p值=%.4f, 自由度=%i expected_frep=%s'%kt)\n"
   ]
  },
  {
   "cell_type": "code",
   "execution_count": 2,
   "id": "7351911c",
   "metadata": {},
   "outputs": [
    {
     "name": "stdout",
     "output_type": "stream",
     "text": [
      "卡方值=5.4518, p值=0.0195, 自由度=1 expected_frep=[[23.44827586 16.55172414]\n",
      " [10.55172414  7.44827586]]\n"
     ]
    }
   ],
   "source": [
    "from  scipy.stats import chi2_contingency\n",
    "import numpy as np\n",
    "import pandas as pd\n",
    "data=[[28,12],[6,12]]\n",
    "\n",
    "df=pd.DataFrame(data,index=['=铅钡','高钾'],columns=['风化','无风化'])\n",
    "kt=chi2_contingency(df)\n",
    "\n",
    "print('卡方值=%.4f, p值=%.4f, 自由度=%i expected_frep=%s'%kt)\n"
   ]
  },
  {
   "cell_type": "code",
   "execution_count": 3,
   "id": "bc5a5bdf",
   "metadata": {},
   "outputs": [
    {
     "name": "stdout",
     "output_type": "stream",
     "text": [
      "卡方值=6.2871, p值=0.5066, 自由度=7 expected_frep=[[ 1.11111111  0.88888889]\n",
      " [ 8.33333333  6.66666667]\n",
      " [ 0.55555556  0.44444444]\n",
      " [11.11111111  8.88888889]\n",
      " [ 1.66666667  1.33333333]\n",
      " [ 1.11111111  0.88888889]\n",
      " [ 3.88888889  3.11111111]\n",
      " [ 2.22222222  1.77777778]]\n"
     ]
    }
   ],
   "source": [
    "from  scipy.stats import chi2_contingency\n",
    "import numpy as np\n",
    "import pandas as pd\n",
    "data=[[2,0],[9,6],[0,1],[12,8],[1,2],[0,2],[4,3],[2,2]]\n",
    "\n",
    "df=pd.DataFrame(data,index=['黑','蓝绿','绿','浅蓝','浅绿','深蓝','深绿','紫'],columns=['风化','无风化'])\n",
    "kt=chi2_contingency(df)\n",
    "\n",
    "print('卡方值=%.4f, p值=%.4f, 自由度=%i expected_frep=%s'%kt)\n"
   ]
  },
  {
   "cell_type": "code",
   "execution_count": null,
   "id": "29c7ea0b",
   "metadata": {},
   "outputs": [],
   "source": []
  }
 ],
 "metadata": {
  "kernelspec": {
   "display_name": "Python 3 (ipykernel)",
   "language": "python",
   "name": "python3"
  },
  "language_info": {
   "codemirror_mode": {
    "name": "ipython",
    "version": 3
   },
   "file_extension": ".py",
   "mimetype": "text/x-python",
   "name": "python",
   "nbconvert_exporter": "python",
   "pygments_lexer": "ipython3",
   "version": "3.10.8"
  }
 },
 "nbformat": 4,
 "nbformat_minor": 5
}
