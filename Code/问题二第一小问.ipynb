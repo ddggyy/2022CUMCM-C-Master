{
 "cells": [
  {
   "cell_type": "code",
   "execution_count": 17,
   "metadata": {},
   "outputs": [],
   "source": [
    "import numpy as np\n",
    "import seaborn as sns\n",
    "import pandas as pd\n",
    "import matplotlib.pyplot as plt"
   ]
  },
  {
   "cell_type": "code",
   "execution_count": 18,
   "metadata": {},
   "outputs": [
    {
     "data": {
      "text/html": [
       "<div>\n",
       "<style scoped>\n",
       "    .dataframe tbody tr th:only-of-type {\n",
       "        vertical-align: middle;\n",
       "    }\n",
       "\n",
       "    .dataframe tbody tr th {\n",
       "        vertical-align: top;\n",
       "    }\n",
       "\n",
       "    .dataframe thead th {\n",
       "        text-align: right;\n",
       "    }\n",
       "</style>\n",
       "<table border=\"1\" class=\"dataframe\">\n",
       "  <thead>\n",
       "    <tr style=\"text-align: right;\">\n",
       "      <th></th>\n",
       "      <th>文物编号</th>\n",
       "      <th>纹饰</th>\n",
       "      <th>类型</th>\n",
       "      <th>颜色</th>\n",
       "      <th>表面风化</th>\n",
       "      <th>文物采样点</th>\n",
       "      <th>二氧化硅(SiO2)</th>\n",
       "      <th>氧化钠(Na2O)</th>\n",
       "      <th>氧化钾(K2O)</th>\n",
       "      <th>氧化钙(CaO)</th>\n",
       "      <th>氧化镁(MgO)</th>\n",
       "      <th>氧化铝(Al2O3)</th>\n",
       "      <th>氧化铁(Fe2O3)</th>\n",
       "      <th>氧化铜(CuO)</th>\n",
       "      <th>氧化铅(PbO)</th>\n",
       "      <th>氧化钡(BaO)</th>\n",
       "      <th>五氧化二磷(P2O5)</th>\n",
       "      <th>氧化锶(SrO)</th>\n",
       "      <th>氧化锡(SnO2)</th>\n",
       "      <th>二氧化硫(SO2)</th>\n",
       "    </tr>\n",
       "  </thead>\n",
       "  <tbody>\n",
       "    <tr>\n",
       "      <th>0</th>\n",
       "      <td>7.0</td>\n",
       "      <td>B</td>\n",
       "      <td>高钾</td>\n",
       "      <td>蓝绿</td>\n",
       "      <td>风化</td>\n",
       "      <td>7.0</td>\n",
       "      <td>92.630000</td>\n",
       "      <td>0.04</td>\n",
       "      <td>0.040000</td>\n",
       "      <td>1.07</td>\n",
       "      <td>0.040000</td>\n",
       "      <td>1.98</td>\n",
       "      <td>0.170</td>\n",
       "      <td>3.240000</td>\n",
       "      <td>0.04</td>\n",
       "      <td>0.04</td>\n",
       "      <td>0.61</td>\n",
       "      <td>0.04</td>\n",
       "      <td>0.04</td>\n",
       "      <td>0.04</td>\n",
       "    </tr>\n",
       "    <tr>\n",
       "      <th>1</th>\n",
       "      <td>9.0</td>\n",
       "      <td>B</td>\n",
       "      <td>高钾</td>\n",
       "      <td>蓝绿</td>\n",
       "      <td>风化</td>\n",
       "      <td>9.0</td>\n",
       "      <td>95.020000</td>\n",
       "      <td>0.04</td>\n",
       "      <td>0.590000</td>\n",
       "      <td>0.62</td>\n",
       "      <td>0.040000</td>\n",
       "      <td>1.32</td>\n",
       "      <td>0.320</td>\n",
       "      <td>1.550000</td>\n",
       "      <td>0.04</td>\n",
       "      <td>0.04</td>\n",
       "      <td>0.35</td>\n",
       "      <td>0.04</td>\n",
       "      <td>0.04</td>\n",
       "      <td>0.04</td>\n",
       "    </tr>\n",
       "    <tr>\n",
       "      <th>2</th>\n",
       "      <td>10.0</td>\n",
       "      <td>B</td>\n",
       "      <td>高钾</td>\n",
       "      <td>蓝绿</td>\n",
       "      <td>风化</td>\n",
       "      <td>10.0</td>\n",
       "      <td>96.770000</td>\n",
       "      <td>0.04</td>\n",
       "      <td>0.920000</td>\n",
       "      <td>0.21</td>\n",
       "      <td>0.040000</td>\n",
       "      <td>0.81</td>\n",
       "      <td>0.260</td>\n",
       "      <td>0.840000</td>\n",
       "      <td>0.04</td>\n",
       "      <td>0.04</td>\n",
       "      <td>0.04</td>\n",
       "      <td>0.04</td>\n",
       "      <td>0.04</td>\n",
       "      <td>0.04</td>\n",
       "    </tr>\n",
       "    <tr>\n",
       "      <th>3</th>\n",
       "      <td>12.0</td>\n",
       "      <td>B</td>\n",
       "      <td>高钾</td>\n",
       "      <td>蓝绿</td>\n",
       "      <td>风化</td>\n",
       "      <td>12.0</td>\n",
       "      <td>94.290000</td>\n",
       "      <td>0.04</td>\n",
       "      <td>1.010000</td>\n",
       "      <td>0.72</td>\n",
       "      <td>0.040000</td>\n",
       "      <td>1.46</td>\n",
       "      <td>0.290</td>\n",
       "      <td>1.650000</td>\n",
       "      <td>0.04</td>\n",
       "      <td>0.04</td>\n",
       "      <td>0.15</td>\n",
       "      <td>0.04</td>\n",
       "      <td>0.04</td>\n",
       "      <td>0.04</td>\n",
       "    </tr>\n",
       "    <tr>\n",
       "      <th>4</th>\n",
       "      <td>22.0</td>\n",
       "      <td>B</td>\n",
       "      <td>高钾</td>\n",
       "      <td>蓝绿</td>\n",
       "      <td>风化</td>\n",
       "      <td>22.0</td>\n",
       "      <td>92.350000</td>\n",
       "      <td>0.04</td>\n",
       "      <td>0.740000</td>\n",
       "      <td>1.66</td>\n",
       "      <td>0.640000</td>\n",
       "      <td>3.50</td>\n",
       "      <td>0.350</td>\n",
       "      <td>0.550000</td>\n",
       "      <td>0.04</td>\n",
       "      <td>0.04</td>\n",
       "      <td>0.21</td>\n",
       "      <td>0.04</td>\n",
       "      <td>0.04</td>\n",
       "      <td>0.04</td>\n",
       "    </tr>\n",
       "    <tr>\n",
       "      <th>5</th>\n",
       "      <td>27.0</td>\n",
       "      <td>B</td>\n",
       "      <td>高钾</td>\n",
       "      <td>蓝绿</td>\n",
       "      <td>风化</td>\n",
       "      <td>27.0</td>\n",
       "      <td>92.720000</td>\n",
       "      <td>0.04</td>\n",
       "      <td>0.040000</td>\n",
       "      <td>0.94</td>\n",
       "      <td>0.540000</td>\n",
       "      <td>2.51</td>\n",
       "      <td>0.200</td>\n",
       "      <td>1.540000</td>\n",
       "      <td>0.04</td>\n",
       "      <td>0.04</td>\n",
       "      <td>0.36</td>\n",
       "      <td>0.04</td>\n",
       "      <td>0.04</td>\n",
       "      <td>0.04</td>\n",
       "    </tr>\n",
       "    <tr>\n",
       "      <th>6</th>\n",
       "      <td>NaN</td>\n",
       "      <td>NaN</td>\n",
       "      <td>NaN</td>\n",
       "      <td>NaN</td>\n",
       "      <td>NaN</td>\n",
       "      <td>NaN</td>\n",
       "      <td>93.963333</td>\n",
       "      <td>0.04</td>\n",
       "      <td>0.543333</td>\n",
       "      <td>0.87</td>\n",
       "      <td>0.196667</td>\n",
       "      <td>1.93</td>\n",
       "      <td>0.265</td>\n",
       "      <td>1.561667</td>\n",
       "      <td>0.04</td>\n",
       "      <td>0.04</td>\n",
       "      <td>0.28</td>\n",
       "      <td>0.04</td>\n",
       "      <td>0.04</td>\n",
       "      <td>0.04</td>\n",
       "    </tr>\n",
       "  </tbody>\n",
       "</table>\n",
       "</div>"
      ],
      "text/plain": [
       "   文物编号   纹饰   类型   颜色 表面风化  文物采样点  二氧化硅(SiO2)  氧化钠(Na2O)  氧化钾(K2O)  氧化钙(CaO)  \\\n",
       "0   7.0    B   高钾   蓝绿   风化    7.0   92.630000       0.04  0.040000      1.07   \n",
       "1   9.0    B   高钾   蓝绿   风化    9.0   95.020000       0.04  0.590000      0.62   \n",
       "2  10.0    B   高钾   蓝绿   风化   10.0   96.770000       0.04  0.920000      0.21   \n",
       "3  12.0    B   高钾   蓝绿   风化   12.0   94.290000       0.04  1.010000      0.72   \n",
       "4  22.0    B   高钾   蓝绿   风化   22.0   92.350000       0.04  0.740000      1.66   \n",
       "5  27.0    B   高钾   蓝绿   风化   27.0   92.720000       0.04  0.040000      0.94   \n",
       "6   NaN  NaN  NaN  NaN  NaN    NaN   93.963333       0.04  0.543333      0.87   \n",
       "\n",
       "   氧化镁(MgO)  氧化铝(Al2O3)  氧化铁(Fe2O3)  氧化铜(CuO)  氧化铅(PbO)  氧化钡(BaO)  \\\n",
       "0  0.040000        1.98       0.170  3.240000      0.04      0.04   \n",
       "1  0.040000        1.32       0.320  1.550000      0.04      0.04   \n",
       "2  0.040000        0.81       0.260  0.840000      0.04      0.04   \n",
       "3  0.040000        1.46       0.290  1.650000      0.04      0.04   \n",
       "4  0.640000        3.50       0.350  0.550000      0.04      0.04   \n",
       "5  0.540000        2.51       0.200  1.540000      0.04      0.04   \n",
       "6  0.196667        1.93       0.265  1.561667      0.04      0.04   \n",
       "\n",
       "   五氧化二磷(P2O5)  氧化锶(SrO)  氧化锡(SnO2)  二氧化硫(SO2)  \n",
       "0         0.61      0.04       0.04       0.04  \n",
       "1         0.35      0.04       0.04       0.04  \n",
       "2         0.04      0.04       0.04       0.04  \n",
       "3         0.15      0.04       0.04       0.04  \n",
       "4         0.21      0.04       0.04       0.04  \n",
       "5         0.36      0.04       0.04       0.04  \n",
       "6         0.28      0.04       0.04       0.04  "
      ]
     },
     "execution_count": 18,
     "metadata": {},
     "output_type": "execute_result"
    }
   ],
   "source": [
    "df = pd.read_excel('整合数据.xlsx',sheet_name='高钾风化')\n",
    "df.replace(0, 0.04, inplace=True)\n",
    "df"
   ]
  },
  {
   "cell_type": "code",
   "execution_count": 19,
   "metadata": {},
   "outputs": [
    {
     "data": {
      "text/plain": [
       "Index(['文物编号', '纹饰', '类型', '颜色', '表面风化', '文物采样点', '二氧化硅(SiO2)', '氧化钠(Na2O)',\n",
       "       '氧化钾(K2O)', '氧化钙(CaO)', '氧化镁(MgO)', '氧化铝(Al2O3)', '氧化铁(Fe2O3)',\n",
       "       '氧化铜(CuO)', '氧化铅(PbO)', '氧化钡(BaO)', '五氧化二磷(P2O5)', '氧化锶(SrO)',\n",
       "       '氧化锡(SnO2)', '二氧化硫(SO2)'],\n",
       "      dtype='object')"
      ]
     },
     "execution_count": 19,
     "metadata": {},
     "output_type": "execute_result"
    }
   ],
   "source": [
    "df.columns"
   ]
  },
  {
   "cell_type": "code",
   "execution_count": 20,
   "metadata": {},
   "outputs": [
    {
     "data": {
      "image/png": "[encoded data removed]",
      "text/plain": [
       "<Figure size 640x480 with 1 Axes>"
      ]
     },
     "metadata": {},
     "output_type": "display_data"
    }
   ],
   "source": [
    "N = 14\n",
    "menMeans = (0.459935919,0.545216937,0.030803842,0.200723553,0.337569903,0.343308258,0.34791141,0.408114079,0.983518245,0.94791305,0.412770412,0.845833333,0.31372549,0.83677686)\n",
    "womenMeans = (0.540064081,0.454783063,0.969196158,0.799276447,0.662430097,0.656691742,0.65208859,0.591885921,0.016481755,0.05208695,0.587229588,0.154166667,0.68627451,0.16322314)\n",
    "#menStd = (2, 3, 4, 1, 2)\n",
    "#womenStd = (3, 5, 2, 3, 3)\n",
    "ind = np.arange(N)    # the x locations for the groups\n",
    "width = 0.5   # the width of the bars: can also be len(x) sequence\n",
    "\n",
    "p1 = plt.bar(ind, menMeans, width)\n",
    "p2 = plt.bar(ind, womenMeans, width,\n",
    "             bottom=menMeans)\n",
    "plt.rc('font',family='SimHei')\n",
    "\n",
    "plt.ylabel('Scores')\n",
    "#plt.title('Scores by group and gender')\n",
    "plt.xticks(ind, ( 'SiO2','Na2O','K2O', 'CaO', 'MgO', 'Al2O3', 'Fe2O3',\n",
    "       'CuO', 'PbO', 'BaO', 'P2O5', 'SrO','SnO2', 'SO2'))\n",
    "plt.yticks(np.arange(0, 1.1, 0.1))\n",
    "\n",
    "plt.legend( ('铅钡', '高钾'))\n",
    "#plt.legend(loc='upper right',borderaxespad=-2)\n",
    "plt.tight_layout()\n",
    "plt.savefig('Features\\\\高钾问题二第一问.pdf')\n",
    "plt.show()"
   ]
  },
  {
   "cell_type": "code",
   "execution_count": 21,
   "metadata": {
    "scrolled": true
   },
   "outputs": [
    {
     "data": {
      "text/plain": [
       "array([[5.63780000e+02, 2.40000000e-01, 3.34000000e+00, 5.22000000e+00,\n",
       "        1.34000000e+00, 1.15800000e+01, 1.59000000e+00, 9.37000000e+00,\n",
       "        2.40000000e-01, 2.40000000e-01, 1.72000000e+00, 2.40000000e-01,\n",
       "        2.40000000e-01, 2.40000000e-01],\n",
       "       [1.21013000e+03, 3.70966667e+01, 5.94000000e+00, 8.45200000e+01,\n",
       "        2.57500000e+01, 1.38180000e+02, 2.06100000e+01, 7.19400000e+01,\n",
       "        1.32739000e+03, 3.77660000e+02, 1.49830000e+02, 1.33500000e+01,\n",
       "        3.33000000e+00, 3.68000000e+01],\n",
       "       [1.77391000e+03, 3.73366667e+01, 9.28000000e+00, 8.97400000e+01,\n",
       "        2.70900000e+01, 1.49760000e+02, 2.22000000e+01, 8.13100000e+01,\n",
       "        1.32763000e+03, 3.77900000e+02, 1.51550000e+02, 1.35900000e+01,\n",
       "        3.57000000e+00, 3.70400000e+01],\n",
       "       [1.77391000e+03, 3.73366667e+01, 9.28000000e+00, 8.97400000e+01,\n",
       "        2.70900000e+01, 1.49760000e+02, 2.22000000e+01, 8.13100000e+01,\n",
       "        1.32763000e+03, 3.77900000e+02, 1.51550000e+02, 1.35900000e+01,\n",
       "        3.57000000e+00, 3.70400000e+01],\n",
       "       [3.17817702e-01, 6.42799750e-03, 3.59913793e-01, 5.81680410e-02,\n",
       "        4.94647471e-02, 7.73237179e-02, 7.16216216e-02, 1.15237978e-01,\n",
       "        1.80773258e-04, 6.35088648e-04, 1.13493896e-02, 1.76600442e-02,\n",
       "        6.72268908e-02, 6.47948164e-03],\n",
       "       [6.82182298e-01, 9.93572003e-01, 6.40086207e-01, 9.41831959e-01,\n",
       "        9.50535253e-01, 9.22676282e-01, 9.28378378e-01, 8.84762022e-01,\n",
       "        9.99819227e-01, 9.99364911e-01, 9.88650610e-01, 9.82339956e-01,\n",
       "        9.32773109e-01, 9.93520518e-01]])"
      ]
     },
     "execution_count": 21,
     "metadata": {},
     "output_type": "execute_result"
    }
   ],
   "source": [
    "import pandas as pd\n",
    "import pylab as plt\n",
    "a=pd.read_excel('整合数据.xlsx',sheet_name='Sheet1',header=None)\n",
    "b=a.values  #提取其中的数据\n",
    "b"
   ]
  },
  {
   "cell_type": "code",
   "execution_count": 22,
   "metadata": {},
   "outputs": [
    {
     "data": {
      "text/plain": [
       "array([3.17817702e-01, 6.42799750e-03, 3.59913793e-01, 5.81680410e-02,\n",
       "       4.94647471e-02, 7.73237179e-02, 7.16216216e-02, 1.15237978e-01,\n",
       "       1.80773258e-04, 6.35088648e-04, 1.13493896e-02, 1.76600442e-02,\n",
       "       6.72268908e-02, 6.47948164e-03])"
      ]
     },
     "execution_count": 22,
     "metadata": {},
     "output_type": "execute_result"
    }
   ],
   "source": [
    "g=b[4]\n",
    "g"
   ]
  },
  {
   "cell_type": "code",
   "execution_count": 23,
   "metadata": {},
   "outputs": [
    {
     "data": {
      "text/plain": [
       "array([0.6821823 , 0.993572  , 0.64008621, 0.94183196, 0.95053525,\n",
       "       0.92267628, 0.92837838, 0.88476202, 0.99981923, 0.99936491,\n",
       "       0.98865061, 0.98233996, 0.93277311, 0.99352052])"
      ]
     },
     "execution_count": 23,
     "metadata": {},
     "output_type": "execute_result"
    }
   ],
   "source": [
    "f=b[5]\n",
    "f"
   ]
  },
  {
   "cell_type": "code",
   "execution_count": 24,
   "metadata": {},
   "outputs": [
    {
     "data": {
      "image/png": "[encoded data removed]",
      "text/plain": [
       "<Figure size 640x480 with 1 Axes>"
      ]
     },
     "metadata": {},
     "output_type": "display_data"
    }
   ],
   "source": [
    "N = 14\n",
    "#menMeans = (0.459935919,0.545216937,0.030803842,0.200723553,0.337569903,0.343308258,0.34791141,0.408114079,0.983518245,0.94791305,0.412770412,0.845833333,0.31372549,0.83677686)\n",
    "#womenMeans = (0.540064081,0.454783063,0.969196158,0.799276447,0.662430097,0.656691742,0.65208859,0.591885921,0.016481755,0.05208695,0.587229588,0.154166667,0.68627451,0.16322314)\n",
    "#menStd = (2, 3, 4, 1, 2)\n",
    "#womenStd = (3, 5, 2, 3, 3)\n",
    "ind = np.arange(N)    # the x locations for the groups\n",
    "width = 0.5   # the width of the bars: can also be len(x) sequence\n",
    "\n",
    "p1 = plt.bar(ind, f, width)\n",
    "p2 = plt.bar(ind, g, width,\n",
    "             bottom=f)\n",
    "plt.rc('font',family='SimHei')\n",
    "\n",
    "plt.ylabel('Scores')\n",
    "#plt.title('Scores by group and gender')\n",
    "plt.xticks(ind, ( 'SiO2','Na2O','K2O', 'CaO', 'MgO', 'Al2O3', 'Fe2O3',\n",
    "       'CuO', 'PbO', 'BaO', 'P2O5', 'SrO','SnO2', 'SO2'))\n",
    "plt.yticks(np.arange(0, 1.1, 0.1))\n",
    "\n",
    "plt.legend( (p1[0], p2[0]),('铅钡', '高钾'))\n",
    "plt.tight_layout()\n",
    "plt.savefig('Features\\\\铅钡问题二第一问.pdf')\n",
    "\n",
    "\n",
    "#plt.legend(loc='upper right',borderaxespad=-2)\n",
    "\n",
    "plt.show()"
   ]
  }
 ],
 "metadata": {
  "kernelspec": {
   "display_name": "Python 3 (ipykernel)",
   "language": "python",
   "name": "python3"
  },
  "language_info": {
   "codemirror_mode": {
    "name": "ipython",
    "version": 3
   },
   "file_extension": ".py",
   "mimetype": "text/x-python",
   "name": "python",
   "nbconvert_exporter": "python",
   "pygments_lexer": "ipython3",
   "version": "3.10.8"
  },
  "toc": {
   "base_numbering": 1,
   "nav_menu": {},
   "number_sections": true,
   "sideBar": true,
   "skip_h1_title": false,
   "title_cell": "Table of Contents",
   "title_sidebar": "Contents",
   "toc_cell": false,
   "toc_position": {},
   "toc_section_display": true,
   "toc_window_display": false
  }
 },
 "nbformat": 4,
 "nbformat_minor": 1
}
